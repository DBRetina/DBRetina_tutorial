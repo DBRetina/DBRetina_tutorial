{
 "cells": [
  {
   "cell_type": "markdown",
   "id": "confused-joining",
   "metadata": {},
   "source": [
    "# **USECASE: Building a disease-disease similairty netwrok**"
   ]
  },
  {
   "cell_type": "markdown",
   "id": "unlimited-bahrain",
   "metadata": {},
   "source": [
    "* DBRetina is an efficent tool for  building a similarity network for a set of items by pairwaise calcuation of their shared features using a linear-time algorithm.\n",
    "* [DisGeNET](https://www.disgenet.org/) has one of the largest collections of genes associated to human diseases.\n",
    "* In this tutorial, we will use DBRetina to build a disease-disease similairty netwrok based on the shared number of genes asscoiated with them in the DisGeNET database"
   ]
  },
  {
   "cell_type": "code",
   "execution_count": null,
   "id": "handmade-latest",
   "metadata": {
    "scrolled": true
   },
   "outputs": [],
   "source": [
    "%%bash\n",
    "## Download the most recent version of disease gene associations from DisGeNET\n",
    "if [ ! -f all_gene_disease_associations.tsv ];then\n",
    "  wget -N http://www.disgenet.org/static/disgenet_ap1/files/downloads/all_gene_disease_associations.tsv.gz\n",
    "  gunzip all_gene_disease_associations.tsv.gz\n",
    "else echo \"all_gene_disease_associations.tsv file exists in the disgenet DB\";fi"
   ]
  },
  {
   "cell_type": "code",
   "execution_count": null,
   "id": "scientific-chair",
   "metadata": {},
   "outputs": [],
   "source": [
    "%%bash\n",
    "head -n3 all_gene_disease_associations.tsv"
   ]
  },
  {
   "cell_type": "code",
   "execution_count": null,
   "id": "elect-direction",
   "metadata": {},
   "outputs": [],
   "source": [
    "%%bash\n",
    "## transform the data table into the DBRetina format\n",
    "## DBRetina expects 2 files. Both are tab-separated files with two columns. Files must have header lines\n",
    "## 1) Associations file: The 1st column for \"items\" and the 2nd for their asscoiated \"features\".\n",
    "## 2) Super-association file: The 1st column for \"items\" and the 2nd for their \"aliases\". You can use this column to update the item name or if you want to pool multiple items together as one super item otherwise the 2nd column should be a copy of the 1st column\n",
    "## In addition, we will filter the input list to keep trusted disease-gene associations only (DisGeNET score > 0.3)\n",
    "cat all_gene_disease_associations.tsv | sed -e 's/^[ \\t]*//' | awk 'BEGIN{FS=OFS=\"\\t\";}{if($10>0.3)print $6,$2}' > disgenet.asc\n",
    "echo \"item alias\" | tr ' ' '\\t' > disgenet.names\n",
    "tail -n+2 disgenet.ld | awk 'BEGIN{FS=OFS=\"\\t\";}{print $1,$1}' | sort | uniq >> disgenet.names"
   ]
  },
  {
   "cell_type": "code",
   "execution_count": null,
   "id": "other-causing",
   "metadata": {},
   "outputs": [],
   "source": [
    "%%bash\n",
    "## Let us explore the format of the prepared filed\n",
    "echo \"DisGeNET input file\"\n",
    "wc -l all_gene_disease_associations.tsv\n",
    "echo \"===================\"\n",
    "echo \"Associations file\"\n",
    "wc -l disgenet.asc\n",
    "head -n3 disgenet.asc\n",
    "echo \"===================\"\n",
    "echo \"Super-associations file\"\n",
    "wc -l disgenet.names\n",
    "head -n3 disgenet.names"
   ]
  },
  {
   "cell_type": "code",
   "execution_count": null,
   "id": "injured-chorus",
   "metadata": {},
   "outputs": [],
   "source": [
    "%%bash\n",
    "## Now we can run DBRetina\n",
    "DBRetina items_indexing -i disgenet.asc -n disgenet.names -p disgenetDBR\n",
    "DBRetina pairwise -i disgenetDBR\n",
    "head disgenetDBR_kSpider_pairwise.tsv"
   ]
  }
 ],
 "metadata": {
  "kernelspec": {
   "display_name": "Python 3",
   "language": "python",
   "name": "python3"
  },
  "language_info": {
   "codemirror_mode": {
    "name": "ipython",
    "version": 3
   },
   "file_extension": ".py",
   "mimetype": "text/x-python",
   "name": "python",
   "nbconvert_exporter": "python",
   "pygments_lexer": "ipython3",
   "version": "3.7.10"
  }
 },
 "nbformat": 4,
 "nbformat_minor": 5
}
